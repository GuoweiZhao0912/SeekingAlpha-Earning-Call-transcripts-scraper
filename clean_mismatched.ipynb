{
 "cells": [
  {
   "cell_type": "markdown",
   "id": "08aa14a0",
   "metadata": {},
   "source": [
    "处理mismatched_code文件"
   ]
  },
  {
   "cell_type": "code",
   "execution_count": 1,
   "id": "4e23ebf1",
   "metadata": {},
   "outputs": [
    {
     "name": "stdout",
     "output_type": "stream",
     "text": [
      "原始代码数量: 6348\n",
      "处理后代码数量: 6348\n",
      "\n",
      "处理前后对比示例（前10个）:\n",
      "原始代码 -> 处理后代码\n",
      "T -> T\n",
      "GRTX -> GRTX\n",
      "SBGI -> SBGI\n",
      "STMEF -> STMEF\n",
      "MRNA -> MRNA\n",
      "MFA -> MFA\n",
      "FHTX -> FHTX\n",
      "AAN-DEFUNCT -> AAN\n",
      "TNGX -> TNGX\n",
      "QVCGP -> QVCGP\n",
      "\n",
      "处理完成！结果已保存到: /Users/mac/Documents/RA/Olivia_Gu/text_analysis/scraper/7/scraper2.0/cleaned_codes.txt\n"
     ]
    }
   ],
   "source": [
    "# 定义文件路径\n",
    "input_file_path = \"/Users/mac/Documents/RA/Olivia_Gu/text_analysis/scraper/7/scraper2.0/mismatched_codes.txt\"\n",
    "output_file_path = \"/Users/mac/Documents/RA/Olivia_Gu/text_analysis/scraper/7/scraper2.0/cleaned_codes.txt\"\n",
    "\n",
    "# 读取原始文件内容\n",
    "with open(input_file_path, 'r') as file:\n",
    "    lines = file.readlines()\n",
    "\n",
    "# 处理每一行代码：移除-DEFUNCT后缀（如果存在）\n",
    "cleaned_lines = []\n",
    "for line in lines:\n",
    "    line = line.strip()  # 移除首尾空白字符\n",
    "    if line.endswith('-DEFUNCT'):\n",
    "        # 移除-DEFUNCT后缀\n",
    "        cleaned_code = line[:-8]  # -DEFUNCT有8个字符\n",
    "        cleaned_lines.append(cleaned_code)\n",
    "    else:\n",
    "        # 如果没有后缀，保持原样\n",
    "        cleaned_lines.append(line)\n",
    "\n",
    "# 将处理后的代码写入新文件\n",
    "with open(output_file_path, 'w') as file:\n",
    "    for code in cleaned_lines:\n",
    "        file.write(code + '\\n')\n",
    "\n",
    "# 显示处理结果\n",
    "print(f\"原始代码数量: {len(lines)}\")\n",
    "print(f\"处理后代码数量: {len(cleaned_lines)}\")\n",
    "print(\"\\n处理前后对比示例（前10个）:\")\n",
    "print(\"原始代码 -> 处理后代码\")\n",
    "for i in range(min(10, len(lines))):\n",
    "    original = lines[i].strip()\n",
    "    cleaned = cleaned_lines[i]\n",
    "    print(f\"{original} -> {cleaned}\")\n",
    "\n",
    "print(f\"\\n处理完成！结果已保存到: {output_file_path}\")"
   ]
  },
  {
   "cell_type": "code",
   "execution_count": null,
   "id": "9c3d7ca8",
   "metadata": {},
   "outputs": [],
   "source": []
  }
 ],
 "metadata": {
  "kernelspec": {
   "display_name": "base",
   "language": "python",
   "name": "python3"
  },
  "language_info": {
   "codemirror_mode": {
    "name": "ipython",
    "version": 3
   },
   "file_extension": ".py",
   "mimetype": "text/x-python",
   "name": "python",
   "nbconvert_exporter": "python",
   "pygments_lexer": "ipython3",
   "version": "3.11.4"
  }
 },
 "nbformat": 4,
 "nbformat_minor": 5
}
